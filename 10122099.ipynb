{
 "cells": [
  {
   "cell_type": "markdown",
   "id": "226f3116",
   "metadata": {},
   "source": [
    "# Tugas Individu - Rekayasa Fitur\n",
    "10122099<br>\n",
    "Muhammad Raffy Abdillah<br>\n",
    "IF-3<br>\n",
    "Rekayasa Fitur Data Video<br>\n"
   ]
  },
  {
   "cell_type": "markdown",
   "id": "c6196d0d",
   "metadata": {},
   "source": [
    "Tahap 1: Import Pustaka dan Video"
   ]
  },
  {
   "cell_type": "code",
   "execution_count": 67,
   "id": "e952e6d4",
   "metadata": {},
   "outputs": [],
   "source": [
    "import cv2\n",
    "import numpy as np\n",
    "import pandas as pd"
   ]
  },
  {
   "cell_type": "code",
   "execution_count": 73,
   "id": "55cdee29",
   "metadata": {},
   "outputs": [],
   "source": [
    "video = 'Kereta.mp4'"
   ]
  },
  {
   "cell_type": "markdown",
   "id": "0d9c109e",
   "metadata": {},
   "source": [
    "Tahap 2: Menampilkan Video"
   ]
  },
  {
   "cell_type": "code",
   "execution_count": 74,
   "id": "d06e83ea",
   "metadata": {},
   "outputs": [],
   "source": [
    "file_vid = cv2.VideoCapture(video)\n",
    "\n",
    "while True:\n",
    "    berhasil, bingkai = file_vid.read()\n",
    "    if not berhasil:\n",
    "        break\n",
    "    cv2.imshow('Video Asli', bingkai)\n",
    "    if cv2.waitKey(1) & 0xFF == ord('q'):\n",
    "        break\n",
    "\n",
    "file_vid.release()\n",
    "cv2.destroyAllWindows()"
   ]
  },
  {
   "cell_type": "markdown",
   "id": "accf1725",
   "metadata": {},
   "source": [
    "Tahap 3: Praproses (Resize & Grayscale)"
   ]
  },
  {
   "cell_type": "code",
   "execution_count": 75,
   "id": "9d300ae1",
   "metadata": {},
   "outputs": [
    {
     "name": "stdout",
     "output_type": "stream",
     "text": [
      "FPS Video: 30.181098386723857\n"
     ]
    }
   ],
   "source": [
    "file_vid = cv2.VideoCapture(video)\n",
    "\n",
    "fps = file_vid.get(cv2.CAP_PROP_FPS)\n",
    "print(f\"FPS Video: {fps}\")\n",
    "berhasil, bingkai = file_vid.read()\n",
    "tinggi, lebar = bingkai.shape[:2]\n",
    "\n",
    "skala = 50\n",
    "lebar_vid = int(lebar * skala / 100)\n",
    "tinggi_vid = int(tinggi * skala / 100)\n",
    "\n",
    "delay = int (500 / fps)\n",
    "\n",
    "while True:\n",
    "    berhasil, bingkai = file_vid.read()\n",
    "    if not berhasil:\n",
    "        file_vid.set(cv2.CAP_PROP_POS_FRAMES, 0)\n",
    "        continue\n",
    "    ukuran = cv2.resize(bingkai, (lebar_vid, tinggi_vid))\n",
    "\n",
    "    vid_abu = cv2.cvtColor(ukuran, cv2.COLOR_BGR2GRAY)\n",
    "\n",
    "    cv2.imshow('Video Berubah Ukuran & Grayscale', vid_abu)\n",
    "\n",
    "    if cv2.waitKey(1) & 0xFF == ord('q'):\n",
    "        break\n",
    "\n",
    "file_vid.release()\n",
    "cv2.destroyAllWindows()"
   ]
  },
  {
   "cell_type": "markdown",
   "id": "915ae307",
   "metadata": {},
   "source": [
    "Tahap 4a: Ekstraksi Fitur (Canny)"
   ]
  },
  {
   "cell_type": "code",
   "execution_count": 76,
   "id": "5b68f942",
   "metadata": {},
   "outputs": [
    {
     "name": "stdout",
     "output_type": "stream",
     "text": [
      "Fitur Canny disimpan ke 'canny_features.csv'\n"
     ]
    }
   ],
   "source": [
    "file_vid = cv2.VideoCapture(video)\n",
    "\n",
    "fps = file_vid.get(cv2.CAP_PROP_FPS)\n",
    "berhasil, bingkai = file_vid.read()\n",
    "tinggi, lebar = bingkai.shape[:2]\n",
    "\n",
    "skala = 50\n",
    "lebar_vid = int(lebar * skala / 100)\n",
    "tinggi_vid = int(tinggi * skala / 100)\n",
    "\n",
    "edge_counts = []\n",
    "\n",
    "while True:\n",
    "    berhasil, bingkai = file_vid.read()\n",
    "    if not berhasil:\n",
    "        break\n",
    "\n",
    "    # Resize\n",
    "    ukuran = cv2.resize(bingkai, (lebar_vid, tinggi_vid))\n",
    "\n",
    "    # Grayscale\n",
    "    abu_abu = cv2.cvtColor(ukuran, cv2.COLOR_BGR2GRAY)\n",
    "\n",
    "    # Canny Edge Detection\n",
    "    edges = cv2.Canny(abu_abu, 200, 100)\n",
    "\n",
    "    # Hitung jumlah pixel edge (yang bukan 0)\n",
    "    edge_count = np.sum(edges > 0)\n",
    "    edge_counts.append(edge_count)\n",
    "\n",
    "    # Tampilkan edge-nya (opsional, untuk lihat visualnya)\n",
    "    cv2.imshow('Canny Edge', edges)\n",
    "    if cv2.waitKey(1) & 0xFF == ord('q'):\n",
    "        break\n",
    "\n",
    "file_vid.release()\n",
    "cv2.destroyAllWindows()\n",
    "\n",
    "# Simpan ke CSV\n",
    "df = pd.DataFrame({'Jumlah Tepi Piksel': edge_counts})\n",
    "df.to_csv('canny_features.csv', index=False)\n",
    "print(\"Fitur Canny disimpan ke 'canny_features.csv'\")"
   ]
  },
  {
   "cell_type": "markdown",
   "id": "5bdd5004",
   "metadata": {},
   "source": [
    "Tahap 4b: Ekstraksi Fitur (Motion History Image)"
   ]
  },
  {
   "cell_type": "code",
   "execution_count": 77,
   "id": "7bf0db8d",
   "metadata": {},
   "outputs": [
    {
     "name": "stdout",
     "output_type": "stream",
     "text": [
      "Fitur MHI per frame berhasil disimpan ke mhi_features.csv.\n"
     ]
    }
   ],
   "source": [
    "file_vid = cv2.VideoCapture(video)\n",
    "\n",
    "berhasil, bingkai = file_vid.read()\n",
    "tinggi, lebar = bingkai.shape[:2]\n",
    "\n",
    "skala = 50\n",
    "lebar_vid = int(lebar * skala / 100)\n",
    "tinggi_vid = int(tinggi * skala / 100)\n",
    "\n",
    "durasi = 0.2\n",
    "\n",
    "fitur_mhi = []\n",
    "\n",
    "# --- Ambil frame pertama ---\n",
    "if berhasil:\n",
    "    bingkai_abu_lama = cv2.cvtColor(bingkai, cv2.COLOR_BGR2GRAY)\n",
    "else:\n",
    "    print(\"Gagal membaca video\")\n",
    "    file_vid.release()\n",
    "    exit()\n",
    "\n",
    "mhi = np.zeros((tinggi, lebar), dtype=np.float64)\n",
    "\n",
    "while True:\n",
    "    berhasil, bingkai = file_vid.read()\n",
    "    if not berhasil:\n",
    "        break  # STOP saat video selesai\n",
    "\n",
    "    bingkai_abu_baru = cv2.cvtColor(bingkai, cv2.COLOR_BGR2GRAY)\n",
    "    diff_bingkai = cv2.absdiff(bingkai_abu_baru, bingkai_abu_lama)\n",
    "    bingkai_abu_lama = bingkai_abu_baru.copy()\n",
    "\n",
    "    mhi = np.maximum(mhi - durasi, diff_bingkai)\n",
    "\n",
    "    # Hitung fitur dari MHI per frame\n",
    "    mean_val = np.mean(mhi)\n",
    "    std_val = np.std(mhi)\n",
    "    sum_val = np.sum(mhi)\n",
    "    fitur_mhi.append([mean_val, std_val, sum_val])\n",
    "\n",
    "    # Tampilkan preview\n",
    "    ukuran = cv2.resize(bingkai, (lebar_vid, tinggi_vid))\n",
    "    mhi_ukuran = cv2.resize(mhi, (lebar_vid, tinggi_vid))\n",
    "    mhi_ukuran = mhi_ukuran.astype(np.uint8)\n",
    "\n",
    "    gabung = np.hstack((ukuran, cv2.cvtColor(mhi_ukuran, cv2.COLOR_GRAY2BGR)))\n",
    "    cv2.imshow('Video Asli dan MHI (50%)', gabung)\n",
    "\n",
    "    # Break manual jika ingin\n",
    "    key = cv2.waitKey(1) & 0xFF\n",
    "    if key == ord('q'):\n",
    "        break\n",
    "\n",
    "file_vid.release()\n",
    "cv2.destroyAllWindows()\n",
    "\n",
    "# Simpan CSV setelah proses selesai\n",
    "df = pd.DataFrame(fitur_mhi, columns=['Mean', 'Std', 'Sum'])\n",
    "df.to_csv('mhi_features.csv', index=False)\n",
    "\n",
    "print('Fitur MHI per frame berhasil disimpan ke mhi_features.csv.')"
   ]
  }
 ],
 "metadata": {
  "kernelspec": {
   "display_name": "Python 3",
   "language": "python",
   "name": "python3"
  },
  "language_info": {
   "codemirror_mode": {
    "name": "ipython",
    "version": 3
   },
   "file_extension": ".py",
   "mimetype": "text/x-python",
   "name": "python",
   "nbconvert_exporter": "python",
   "pygments_lexer": "ipython3",
   "version": "3.12.6"
  }
 },
 "nbformat": 4,
 "nbformat_minor": 5
}

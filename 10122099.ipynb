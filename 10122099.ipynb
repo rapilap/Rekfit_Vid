{
 "cells": [
  {
   "cell_type": "markdown",
   "id": "226f3116",
   "metadata": {},
   "source": [
    "# Tugas Individu - Rekayasa Fitur\n",
    "10122099<br>\n",
    "Muhammad Raffy Abdillah<br>\n",
    "IF-3<br>\n",
    "Rekayasa Fitur Data Video<br>\n"
   ]
  },
  {
   "cell_type": "code",
   "execution_count": 6,
   "id": "d06e83ea",
   "metadata": {},
   "outputs": [],
   "source": [
    "import cv2\n",
    "import numpy as np\n",
    "\n",
    "file_vid = cv2.VideoCapture('Test.mp4')\n",
    "\n",
    "while True:\n",
    "    berhasil, bingkai = file_vid.read()\n",
    "    if not berhasil:\n",
    "        break\n",
    "    cv2.imshow('Video', bingkai)\n",
    "    if cv2.waitKey(1) & 0xFF == ord('q'):\n",
    "        break\n",
    "\n",
    "file_vid.release()\n",
    "cv2.destroyAllWindows()"
   ]
  },
  {
   "cell_type": "markdown",
   "id": "accf1725",
   "metadata": {},
   "source": [
    "==="
   ]
  },
  {
   "cell_type": "code",
   "execution_count": null,
   "id": "9d300ae1",
   "metadata": {},
   "outputs": [
    {
     "name": "stdout",
     "output_type": "stream",
     "text": [
      "FPS Video: 0.0\n"
     ]
    },
    {
     "ename": "AttributeError",
     "evalue": "'NoneType' object has no attribute 'shape'",
     "output_type": "error",
     "traceback": [
      "\u001b[1;31m---------------------------------------------------------------------------\u001b[0m",
      "\u001b[1;31mAttributeError\u001b[0m                            Traceback (most recent call last)",
      "Cell \u001b[1;32mIn[7], line 4\u001b[0m\n\u001b[0;32m      2\u001b[0m \u001b[38;5;28mprint\u001b[39m(\u001b[38;5;124mf\u001b[39m\u001b[38;5;124m\"\u001b[39m\u001b[38;5;124mFPS Video: \u001b[39m\u001b[38;5;132;01m{\u001b[39;00mfps\u001b[38;5;132;01m}\u001b[39;00m\u001b[38;5;124m\"\u001b[39m)\n\u001b[0;32m      3\u001b[0m berhasi, bingkai \u001b[38;5;241m=\u001b[39m file_vid\u001b[38;5;241m.\u001b[39mread()\n\u001b[1;32m----> 4\u001b[0m tinggi, lebar \u001b[38;5;241m=\u001b[39m \u001b[43mbingkai\u001b[49m\u001b[38;5;241;43m.\u001b[39;49m\u001b[43mshape\u001b[49m[:\u001b[38;5;241m2\u001b[39m]\n\u001b[0;32m      6\u001b[0m skala \u001b[38;5;241m=\u001b[39m \u001b[38;5;241m50\u001b[39m\n\u001b[0;32m      7\u001b[0m lebar_vid \u001b[38;5;241m=\u001b[39m \u001b[38;5;28mint\u001b[39m(lebar \u001b[38;5;241m*\u001b[39m skala \u001b[38;5;241m/\u001b[39m \u001b[38;5;241m100\u001b[39m)\n",
      "\u001b[1;31mAttributeError\u001b[0m: 'NoneType' object has no attribute 'shape'"
     ]
    }
   ],
   "source": [
    "fps = file_vid.get(cv2.CAP_PROP_FPS)\n",
    "print(f\"FPS Video: {fps}\")\n",
    "berhasi, bingkai = file_vid.read()\n",
    "tinggi, lebar = bingkai.shape[:2]\n",
    "\n",
    "skala = 50\n",
    "lebar_vid = int(lebar * skala / 100)\n",
    "tinggi_vid = int(tinggi * skala / 100)\n",
    "\n",
    "delay = int (500 / fps)\n",
    "\n",
    "while True:\n",
    "    berhasi, bingkai = file_vid.read()\n",
    "    if not berhasi: bg"
   ]
  },
  {
   "cell_type": "code",
   "execution_count": null,
   "id": "0af5fc57",
   "metadata": {},
   "outputs": [],
   "source": []
  }
 ],
 "metadata": {
  "kernelspec": {
   "display_name": "Python 3",
   "language": "python",
   "name": "python3"
  },
  "language_info": {
   "codemirror_mode": {
    "name": "ipython",
    "version": 3
   },
   "file_extension": ".py",
   "mimetype": "text/x-python",
   "name": "python",
   "nbconvert_exporter": "python",
   "pygments_lexer": "ipython3",
   "version": "3.12.6"
  }
 },
 "nbformat": 4,
 "nbformat_minor": 5
}

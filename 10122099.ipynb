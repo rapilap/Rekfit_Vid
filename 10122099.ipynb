{
 "cells": [
  {
   "cell_type": "markdown",
   "id": "226f3116",
   "metadata": {},
   "source": [
    "# Tugas Individu - Rekayasa Fitur\n",
    "10122099<br>\n",
    "Muhammad Raffy Abdillah<br>\n",
    "IF-3<br>\n",
    "Rekayasa Fitur Data Video<br>\n"
   ]
  },
  {
   "cell_type": "markdown",
   "id": "c6196d0d",
   "metadata": {},
   "source": [
    "Tahap 1: Import Pustaka"
   ]
  },
  {
   "cell_type": "code",
   "execution_count": 7,
   "id": "e952e6d4",
   "metadata": {},
   "outputs": [],
   "source": [
    "import cv2\n",
    "import numpy as np"
   ]
  },
  {
   "cell_type": "markdown",
   "id": "0d9c109e",
   "metadata": {},
   "source": [
    "Tahap 2: Menampilkan Video"
   ]
  },
  {
   "cell_type": "code",
   "execution_count": 8,
   "id": "d06e83ea",
   "metadata": {},
   "outputs": [],
   "source": [
    "file_vid = cv2.VideoCapture('Test.mp4')\n",
    "\n",
    "while True:\n",
    "    berhasil, bingkai = file_vid.read()\n",
    "    if not berhasil:\n",
    "        break\n",
    "    cv2.imshow('Video Asli', bingkai)\n",
    "    if cv2.waitKey(1) & 0xFF == ord('q'):\n",
    "        break\n",
    "\n",
    "file_vid.release()\n",
    "cv2.destroyAllWindows()"
   ]
  },
  {
   "cell_type": "markdown",
   "id": "accf1725",
   "metadata": {},
   "source": [
    "Tahap 3: Praproses (Resize & Grayscale)"
   ]
  },
  {
   "cell_type": "code",
   "execution_count": 9,
   "id": "9d300ae1",
   "metadata": {},
   "outputs": [
    {
     "name": "stdout",
     "output_type": "stream",
     "text": [
      "FPS Video: 60.017705214911956\n"
     ]
    }
   ],
   "source": [
    "file_vid = cv2.VideoCapture('Test.mp4')\n",
    "\n",
    "fps = file_vid.get(cv2.CAP_PROP_FPS)\n",
    "print(f\"FPS Video: {fps}\")\n",
    "berhasi, bingkai = file_vid.read()\n",
    "tinggi, lebar = bingkai.shape[:2]\n",
    "\n",
    "skala = 50\n",
    "lebar_vid = int(lebar * skala / 100)\n",
    "tinggi_vid = int(tinggi * skala / 100)\n",
    "\n",
    "delay = int (500 / fps)\n",
    "\n",
    "while True:\n",
    "    berhasi, bingkai = file_vid.read()\n",
    "    if not berhasi:\n",
    "        file_vid.set(cv2.CAP_PROP_POS_FRAMES, 0)\n",
    "        continue\n",
    "    ukuran = cv2.resize(bingkai, (lebar_vid, tinggi_vid))\n",
    "\n",
    "    vid_abu = cv2.cvtColor(ukuran, cv2.COLOR_BGR2GRAY)\n",
    "\n",
    "    cv2.imshow('Video Berubah Ukuran & Grayscale', vid_abu)\n",
    "\n",
    "    if cv2.waitKey(1) & 0xFF == ord('q'):\n",
    "        break\n",
    "\n",
    "file_vid.release()\n",
    "cv2.destroyAllWindows()"
   ]
  },
  {
   "cell_type": "code",
   "execution_count": null,
   "id": "0af5fc57",
   "metadata": {},
   "outputs": [],
   "source": []
  }
 ],
 "metadata": {
  "kernelspec": {
   "display_name": "Python 3",
   "language": "python",
   "name": "python3"
  },
  "language_info": {
   "codemirror_mode": {
    "name": "ipython",
    "version": 3
   },
   "file_extension": ".py",
   "mimetype": "text/x-python",
   "name": "python",
   "nbconvert_exporter": "python",
   "pygments_lexer": "ipython3",
   "version": "3.12.6"
  }
 },
 "nbformat": 4,
 "nbformat_minor": 5
}
